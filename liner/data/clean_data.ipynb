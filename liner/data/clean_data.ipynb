{
 "cells": [
  {
   "cell_type": "code",
   "execution_count": 3,
   "metadata": {},
   "outputs": [
    {
     "name": "stderr",
     "output_type": "stream",
     "text": [
      "Building prefix dict from the default dictionary ...\n",
      "Dumping model to file cache C:\\Users\\lhy\\AppData\\Local\\Temp\\jieba.cache\n",
      "Loading model cost 0.601 seconds.\n",
      "Prefix dict has been built successfully.\n"
     ]
    }
   ],
   "source": [
    "import re\n",
    "import jieba\n",
    "\n",
    "# 读取输入文件\n",
    "with open('天龙八部.txt', 'r', encoding='utf-8') as f:\n",
    "    text = f.read()\n",
    "\n",
    "# 删除非中文字符\n",
    "chinese_text = re.sub(r'[^\\u4e00-\\u9fa5。！？]+', '', text)\n",
    "\n",
    "# 将文本切分为句子列表\n",
    "sentences = re.split(r'[。！？]', chinese_text)\n",
    "sentences = [s.strip() for s in sentences if s.strip()]\n",
    "\n",
    "# 对每个句子进行分词并写入输出文件\n",
    "with open('output.txt', 'w', encoding='utf-8') as f:\n",
    "    for sentence in sentences:\n",
    "        words = jieba.cut(sentence)\n",
    "        tokenized_sentence = ' '.join(words)\n",
    "        f.write(tokenized_sentence + '\\n')"
   ]
  }
 ],
 "metadata": {
  "kernelspec": {
   "display_name": "lhy_base",
   "language": "python",
   "name": "python3"
  },
  "language_info": {
   "codemirror_mode": {
    "name": "ipython",
    "version": 3
   },
   "file_extension": ".py",
   "mimetype": "text/x-python",
   "name": "python",
   "nbconvert_exporter": "python",
   "pygments_lexer": "ipython3",
   "version": "3.9.13"
  },
  "orig_nbformat": 4
 },
 "nbformat": 4,
 "nbformat_minor": 2
}
